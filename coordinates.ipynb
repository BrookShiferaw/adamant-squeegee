{
 "cells": [
  {
   "cell_type": "raw",
   "metadata": {
    "collapsed": false
   },
   "source": []
  },
  {
   "cell_type": "code",
   "execution_count": 325,
   "metadata": {
    "collapsed": true
   },
   "outputs": [],
   "source": [
    "from random import shuffle "
   ]
  },
  {
   "cell_type": "code",
   "execution_count": 357,
   "metadata": {
    "collapsed": true
   },
   "outputs": [],
   "source": [
    "loc1 = ([0,4],[4,0],[-4,0],[0,-4])*150\n",
    "loc2 = ([0,4],[4,0],[-4,0],[0,-4])*150\n",
    "loc3 = ([0,4],[4,0],[-4,0],[0,-4])*150\n",
    "#loc4 = ([0,4],[4,0],[-4,0],[0,-4])*150"
   ]
  },
  {
   "cell_type": "code",
   "execution_count": 358,
   "metadata": {
    "collapsed": false
   },
   "outputs": [],
   "source": [
    "col1 = (\"red\", \"yellow\", \"blue\",\"pink\")*150\n",
    "col2 = (\"red\", \"yellow\", \"blue\",\"white\")*150\n",
    "col3 = (\"red\", \"yellow\", \"blue\",\"green\")*150\n",
    "#col4 = (\"red\", \"yellow\", \"blue\",\"green\")*150"
   ]
  },
  {
   "cell_type": "code",
   "execution_count": 359,
   "metadata": {
    "collapsed": false
   },
   "outputs": [],
   "source": [
    "df = pd.DataFrame(columns = [\"col1\",\"col2\",\"col3\",\"loc1\",\"loc2\",\"loc3\", \"testcol\", \"corrans\"])\n",
    "df.col1 = col1\n",
    "df.col2 = col2\n",
    "df.col3 = col3\n",
    "#df.col4 = col4\n",
    "df.loc1 = loc1\n",
    "df.loc2 = loc2\n",
    "df.loc3 = loc3\n",
    "#df.loc4 = loc4"
   ]
  },
  {
   "cell_type": "code",
   "execution_count": 360,
   "metadata": {
    "collapsed": true
   },
   "outputs": [],
   "source": [
    "df.testcol = [\"red\"]*75 +[\"yellow\"]*75 + [\"blue\"]*75 + [\"green\"]*75 + [\"pink\"]*75 + [\"purple\"]*75 + [\"white\"]*75 + [\"orange\"]*75\n",
    "shuffle(df.testcol)"
   ]
  },
  {
   "cell_type": "code",
   "execution_count": 361,
   "metadata": {
    "collapsed": false
   },
   "outputs": [],
   "source": [
    "cols = [df.col1,df.col2,df.col3,df.loc1,df.loc2,df.loc3]\n",
    "for i in cols:\n",
    "    shuffle(i)"
   ]
  },
  {
   "cell_type": "code",
   "execution_count": 362,
   "metadata": {
    "collapsed": false
   },
   "outputs": [],
   "source": [
    "df = df[df.col1 != df.col2]\n",
    "df = df[df.col1 != df.col3]\n",
    "\n",
    "df = df[df.loc1 != df.loc2]\n",
    "df = df[df.loc1 != df.loc2]\n",
    "#df = df[df.col1 != df.col4]\n",
    "\n",
    "df = df[df.col2 != df.col1]\n",
    "df = df[df.col2 != df.col3]\n",
    "\n",
    "df = df[df.loc2 != df.loc1]\n",
    "df = df[df.loc2 != df.loc3]\n",
    "#df = df[df.col2 != df.col4]\n",
    "\n",
    "df = df[df.col3 != df.col2]\n",
    "df = df[df.col3 != df.col1]\n",
    "\n",
    "df = df[df.loc3 != df.loc2]\n",
    "df = df[df.loc3 != df.loc1]\n",
    "#df = df[df.col3 != df.col4]\n",
    "\n",
    "#df = df[df.col4 != df.col2]\n",
    "#df = df[df.col4 != df.col3]\n",
    "#df = df[df.col4 != df.col1]\n"
   ]
  },
  {
   "cell_type": "code",
   "execution_count": 363,
   "metadata": {
    "collapsed": false
   },
   "outputs": [],
   "source": [
    "df.reset_index(inplace=True,level = None)\n",
    "del df['index']"
   ]
  },
  {
   "cell_type": "code",
   "execution_count": 364,
   "metadata": {
    "collapsed": false
   },
   "outputs": [
    {
     "data": {
      "text/plain": [
       "(117, 8)"
      ]
     },
     "execution_count": 364,
     "metadata": {},
     "output_type": "execute_result"
    }
   ],
   "source": [
    "df.shape"
   ]
  },
  {
   "cell_type": "code",
   "execution_count": 365,
   "metadata": {
    "collapsed": false
   },
   "outputs": [],
   "source": [
    "for index, row in df.iterrows():\n",
    "    \n",
    "    \n",
    "    if row['col1'] == row['testcol'] and row['loc1']==[0,4]:\n",
    "        row['corrans'] = 'down'\n",
    "    elif row['col1'] == row['testcol'] and row['loc1']==[0,-4]:\n",
    "        row['corrans'] = 'up'\n",
    "    elif row['col1'] == row['testcol'] and row['loc1']==[4,0]:\n",
    "        row['corrans'] = 'left'\n",
    "    elif row['col1'] == row['testcol'] and row['loc1']==[-4,0]:\n",
    "        row['corrans'] = 'right'\n",
    "   \n",
    "    if row['col2'] == row['testcol'] and row['loc2']==[0,4]:\n",
    "        row['corrans'] = 'down'\n",
    "    elif row['col2'] == row['testcol'] and row['loc2']==[0,-4]:\n",
    "        row['corrans'] = 'up'\n",
    "    elif row['col2'] == row['testcol'] and row['loc2']==[4,0]:\n",
    "        row['corrans'] = 'left'\n",
    "    elif row['col2'] == row['testcol'] and row['loc2']==[-4,0]:\n",
    "        row['corrans'] = 'right'\n",
    "        \n",
    "    if row['col3'] == row['testcol'] and row['loc3']==[0,4]:\n",
    "        row['corrans'] = 'down'\n",
    "    elif row['col3'] == row['testcol'] and row['loc3']==[0,-4]:\n",
    "        row['corrans'] = 'up'\n",
    "    elif row['col3'] == row['testcol'] and row['loc3']==[4,0]:\n",
    "        row['corrans'] = 'left'\n",
    "    elif row['col3'] == row['testcol'] and row['loc3']==[-4,0]:\n",
    "        row['corrans'] = 'right'\n",
    "    \n",
    "  "
   ]
  },
  {
   "cell_type": "code",
   "execution_count": 366,
   "metadata": {
    "collapsed": false
   },
   "outputs": [],
   "source": [
    "df = df[df.corrans.notnull()]"
   ]
  },
  {
   "cell_type": "code",
   "execution_count": 367,
   "metadata": {
    "collapsed": true
   },
   "outputs": [],
   "source": [
    "df.to_csv(\"coordinates2.csv\",index=False)"
   ]
  },
  {
   "cell_type": "code",
   "execution_count": 368,
   "metadata": {
    "collapsed": false
   },
   "outputs": [],
   "source": [
    "df2 = pd.read_csv('coordinates2.csv')\n",
    "df2 = df2.drop_duplicates()"
   ]
  },
  {
   "cell_type": "code",
   "execution_count": 369,
   "metadata": {
    "collapsed": false
   },
   "outputs": [
    {
     "name": "stdout",
     "output_type": "stream",
     "text": [
      "(38, 8)\n",
      "(38, 8)\n"
     ]
    }
   ],
   "source": [
    "print(df.shape)\n",
    "print(df2.shape)"
   ]
  },
  {
   "cell_type": "code",
   "execution_count": 370,
   "metadata": {
    "collapsed": false
   },
   "outputs": [],
   "source": [
    "df2.to_excel(\"coordinates2.xlsx\", index=False)"
   ]
  },
  {
   "cell_type": "code",
   "execution_count": 371,
   "metadata": {
    "collapsed": false
   },
   "outputs": [
    {
     "data": {
      "text/html": [
       "<div>\n",
       "<table border=\"1\" class=\"dataframe\">\n",
       "  <thead>\n",
       "    <tr style=\"text-align: right;\">\n",
       "      <th></th>\n",
       "      <th>col1</th>\n",
       "      <th>col2</th>\n",
       "      <th>col3</th>\n",
       "      <th>loc1</th>\n",
       "      <th>loc2</th>\n",
       "      <th>loc3</th>\n",
       "      <th>testcol</th>\n",
       "      <th>corrans</th>\n",
       "    </tr>\n",
       "  </thead>\n",
       "  <tbody>\n",
       "    <tr>\n",
       "      <th>20</th>\n",
       "      <td>blue</td>\n",
       "      <td>yellow</td>\n",
       "      <td>green</td>\n",
       "      <td>[0, 4]</td>\n",
       "      <td>[0, -4]</td>\n",
       "      <td>[-4, 0]</td>\n",
       "      <td>yellow</td>\n",
       "      <td>up</td>\n",
       "    </tr>\n",
       "    <tr>\n",
       "      <th>21</th>\n",
       "      <td>pink</td>\n",
       "      <td>white</td>\n",
       "      <td>red</td>\n",
       "      <td>[0, 4]</td>\n",
       "      <td>[4, 0]</td>\n",
       "      <td>[-4, 0]</td>\n",
       "      <td>red</td>\n",
       "      <td>right</td>\n",
       "    </tr>\n",
       "    <tr>\n",
       "      <th>22</th>\n",
       "      <td>red</td>\n",
       "      <td>yellow</td>\n",
       "      <td>blue</td>\n",
       "      <td>[4, 0]</td>\n",
       "      <td>[-4, 0]</td>\n",
       "      <td>[0, -4]</td>\n",
       "      <td>yellow</td>\n",
       "      <td>right</td>\n",
       "    </tr>\n",
       "    <tr>\n",
       "      <th>23</th>\n",
       "      <td>blue</td>\n",
       "      <td>yellow</td>\n",
       "      <td>red</td>\n",
       "      <td>[-4, 0]</td>\n",
       "      <td>[0, 4]</td>\n",
       "      <td>[4, 0]</td>\n",
       "      <td>yellow</td>\n",
       "      <td>down</td>\n",
       "    </tr>\n",
       "    <tr>\n",
       "      <th>24</th>\n",
       "      <td>pink</td>\n",
       "      <td>red</td>\n",
       "      <td>yellow</td>\n",
       "      <td>[4, 0]</td>\n",
       "      <td>[-4, 0]</td>\n",
       "      <td>[0, -4]</td>\n",
       "      <td>yellow</td>\n",
       "      <td>up</td>\n",
       "    </tr>\n",
       "    <tr>\n",
       "      <th>25</th>\n",
       "      <td>blue</td>\n",
       "      <td>red</td>\n",
       "      <td>green</td>\n",
       "      <td>[4, 0]</td>\n",
       "      <td>[0, 4]</td>\n",
       "      <td>[-4, 0]</td>\n",
       "      <td>red</td>\n",
       "      <td>down</td>\n",
       "    </tr>\n",
       "    <tr>\n",
       "      <th>26</th>\n",
       "      <td>yellow</td>\n",
       "      <td>blue</td>\n",
       "      <td>red</td>\n",
       "      <td>[-4, 0]</td>\n",
       "      <td>[4, 0]</td>\n",
       "      <td>[0, 4]</td>\n",
       "      <td>red</td>\n",
       "      <td>down</td>\n",
       "    </tr>\n",
       "    <tr>\n",
       "      <th>27</th>\n",
       "      <td>red</td>\n",
       "      <td>blue</td>\n",
       "      <td>yellow</td>\n",
       "      <td>[0, -4]</td>\n",
       "      <td>[4, 0]</td>\n",
       "      <td>[-4, 0]</td>\n",
       "      <td>yellow</td>\n",
       "      <td>right</td>\n",
       "    </tr>\n",
       "    <tr>\n",
       "      <th>28</th>\n",
       "      <td>pink</td>\n",
       "      <td>yellow</td>\n",
       "      <td>blue</td>\n",
       "      <td>[0, -4]</td>\n",
       "      <td>[0, 4]</td>\n",
       "      <td>[4, 0]</td>\n",
       "      <td>yellow</td>\n",
       "      <td>down</td>\n",
       "    </tr>\n",
       "    <tr>\n",
       "      <th>29</th>\n",
       "      <td>pink</td>\n",
       "      <td>blue</td>\n",
       "      <td>red</td>\n",
       "      <td>[4, 0]</td>\n",
       "      <td>[0, -4]</td>\n",
       "      <td>[-4, 0]</td>\n",
       "      <td>blue</td>\n",
       "      <td>up</td>\n",
       "    </tr>\n",
       "    <tr>\n",
       "      <th>30</th>\n",
       "      <td>blue</td>\n",
       "      <td>white</td>\n",
       "      <td>green</td>\n",
       "      <td>[-4, 0]</td>\n",
       "      <td>[0, -4]</td>\n",
       "      <td>[0, 4]</td>\n",
       "      <td>white</td>\n",
       "      <td>up</td>\n",
       "    </tr>\n",
       "    <tr>\n",
       "      <th>31</th>\n",
       "      <td>yellow</td>\n",
       "      <td>red</td>\n",
       "      <td>blue</td>\n",
       "      <td>[0, -4]</td>\n",
       "      <td>[4, 0]</td>\n",
       "      <td>[-4, 0]</td>\n",
       "      <td>red</td>\n",
       "      <td>left</td>\n",
       "    </tr>\n",
       "    <tr>\n",
       "      <th>32</th>\n",
       "      <td>pink</td>\n",
       "      <td>white</td>\n",
       "      <td>yellow</td>\n",
       "      <td>[4, 0]</td>\n",
       "      <td>[-4, 0]</td>\n",
       "      <td>[0, 4]</td>\n",
       "      <td>white</td>\n",
       "      <td>right</td>\n",
       "    </tr>\n",
       "    <tr>\n",
       "      <th>33</th>\n",
       "      <td>pink</td>\n",
       "      <td>white</td>\n",
       "      <td>green</td>\n",
       "      <td>[4, 0]</td>\n",
       "      <td>[0, -4]</td>\n",
       "      <td>[-4, 0]</td>\n",
       "      <td>white</td>\n",
       "      <td>up</td>\n",
       "    </tr>\n",
       "    <tr>\n",
       "      <th>34</th>\n",
       "      <td>blue</td>\n",
       "      <td>yellow</td>\n",
       "      <td>red</td>\n",
       "      <td>[0, 4]</td>\n",
       "      <td>[-4, 0]</td>\n",
       "      <td>[4, 0]</td>\n",
       "      <td>red</td>\n",
       "      <td>left</td>\n",
       "    </tr>\n",
       "    <tr>\n",
       "      <th>35</th>\n",
       "      <td>yellow</td>\n",
       "      <td>white</td>\n",
       "      <td>red</td>\n",
       "      <td>[-4, 0]</td>\n",
       "      <td>[4, 0]</td>\n",
       "      <td>[0, 4]</td>\n",
       "      <td>red</td>\n",
       "      <td>down</td>\n",
       "    </tr>\n",
       "    <tr>\n",
       "      <th>36</th>\n",
       "      <td>pink</td>\n",
       "      <td>red</td>\n",
       "      <td>green</td>\n",
       "      <td>[-4, 0]</td>\n",
       "      <td>[0, 4]</td>\n",
       "      <td>[0, -4]</td>\n",
       "      <td>red</td>\n",
       "      <td>down</td>\n",
       "    </tr>\n",
       "    <tr>\n",
       "      <th>37</th>\n",
       "      <td>red</td>\n",
       "      <td>white</td>\n",
       "      <td>green</td>\n",
       "      <td>[0, -4]</td>\n",
       "      <td>[0, 4]</td>\n",
       "      <td>[-4, 0]</td>\n",
       "      <td>white</td>\n",
       "      <td>down</td>\n",
       "    </tr>\n",
       "  </tbody>\n",
       "</table>\n",
       "</div>"
      ],
      "text/plain": [
       "      col1    col2    col3     loc1     loc2     loc3 testcol corrans\n",
       "20    blue  yellow   green   [0, 4]  [0, -4]  [-4, 0]  yellow      up\n",
       "21    pink   white     red   [0, 4]   [4, 0]  [-4, 0]     red   right\n",
       "22     red  yellow    blue   [4, 0]  [-4, 0]  [0, -4]  yellow   right\n",
       "23    blue  yellow     red  [-4, 0]   [0, 4]   [4, 0]  yellow    down\n",
       "24    pink     red  yellow   [4, 0]  [-4, 0]  [0, -4]  yellow      up\n",
       "25    blue     red   green   [4, 0]   [0, 4]  [-4, 0]     red    down\n",
       "26  yellow    blue     red  [-4, 0]   [4, 0]   [0, 4]     red    down\n",
       "27     red    blue  yellow  [0, -4]   [4, 0]  [-4, 0]  yellow   right\n",
       "28    pink  yellow    blue  [0, -4]   [0, 4]   [4, 0]  yellow    down\n",
       "29    pink    blue     red   [4, 0]  [0, -4]  [-4, 0]    blue      up\n",
       "30    blue   white   green  [-4, 0]  [0, -4]   [0, 4]   white      up\n",
       "31  yellow     red    blue  [0, -4]   [4, 0]  [-4, 0]     red    left\n",
       "32    pink   white  yellow   [4, 0]  [-4, 0]   [0, 4]   white   right\n",
       "33    pink   white   green   [4, 0]  [0, -4]  [-4, 0]   white      up\n",
       "34    blue  yellow     red   [0, 4]  [-4, 0]   [4, 0]     red    left\n",
       "35  yellow   white     red  [-4, 0]   [4, 0]   [0, 4]     red    down\n",
       "36    pink     red   green  [-4, 0]   [0, 4]  [0, -4]     red    down\n",
       "37     red   white   green  [0, -4]   [0, 4]  [-4, 0]   white    down"
      ]
     },
     "execution_count": 371,
     "metadata": {},
     "output_type": "execute_result"
    }
   ],
   "source": [
    "df2[20:]"
   ]
  },
  {
   "cell_type": "code",
   "execution_count": null,
   "metadata": {
    "collapsed": true
   },
   "outputs": [],
   "source": []
  }
 ],
 "metadata": {
  "kernelspec": {
   "display_name": "Python 3",
   "language": "python",
   "name": "python3"
  },
  "language_info": {
   "codemirror_mode": {
    "name": "ipython",
    "version": 3
   },
   "file_extension": ".py",
   "mimetype": "text/x-python",
   "name": "python",
   "nbconvert_exporter": "python",
   "pygments_lexer": "ipython3",
   "version": "3.4.3"
  }
 },
 "nbformat": 4,
 "nbformat_minor": 0
}
