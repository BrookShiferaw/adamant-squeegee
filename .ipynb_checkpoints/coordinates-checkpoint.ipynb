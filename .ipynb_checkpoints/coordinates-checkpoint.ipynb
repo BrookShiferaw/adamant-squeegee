{
 "cells": [
  {
   "cell_type": "code",
   "execution_count": null,
   "metadata": {
    "collapsed": false
   },
   "outputs": [],
   "source": []
  },
  {
   "cell_type": "code",
   "execution_count": 1,
   "metadata": {
    "collapsed": true
   },
   "outputs": [],
   "source": [
    "from random import shuffle "
   ]
  },
  {
   "cell_type": "code",
   "execution_count": 2,
   "metadata": {
    "collapsed": true
   },
   "outputs": [],
   "source": [
    "loc1 = ([0,4],[4,0],[-4,0],[0,-4])*250\n",
    "loc2 = ([0,4],[4,0],[-4,0],[0,-4])*250\n",
    "loc3 = ([0,4],[4,0],[-4,0],[0,-4])*250\n",
    "loc4 = ([0,4],[4,0],[-4,0],[0,-4])*250"
   ]
  },
  {
   "cell_type": "code",
   "execution_count": 3,
   "metadata": {
    "collapsed": false
   },
   "outputs": [],
   "source": [
    "col1 = (\"red\", \"yellow\", \"blue\",\"green\")*250\n",
    "col2 = (\"red\", \"yellow\", \"blue\",\"green\")*250\n",
    "col3 = (\"red\", \"yellow\", \"blue\",\"green\")*250\n",
    "col4 = (\"red\", \"yellow\", \"blue\",\"green\")*250"
   ]
  },
  {
   "cell_type": "code",
   "execution_count": 4,
   "metadata": {
    "collapsed": false
   },
   "outputs": [],
   "source": [
    "df = pd.DataFrame(columns = [\"col1\",\"col2\",\"col3\",\"col4\",\"loc1\",\"loc2\",\"loc3\", \"loc4\", \"testcol\", \"corrans\"])\n",
    "df.col1 = col1\n",
    "df.col2 = col2\n",
    "df.col3 = col3\n",
    "df.col4 = col4\n",
    "df.loc1 = loc1\n",
    "df.loc2 = loc2\n",
    "df.loc3 = loc3\n",
    "df.loc4 = loc4"
   ]
  },
  {
   "cell_type": "code",
   "execution_count": 323,
   "metadata": {
    "collapsed": false
   },
   "outputs": [],
   "source": [
    "cols = [df.col1,df.col2,df.col3,df.col4,df.loc1,df.loc2,df.loc3,df.lo]\n",
    "for i in cols:\n",
    "    shuffle(i)"
   ]
  },
  {
   "cell_type": "code",
   "execution_count": 324,
   "metadata": {
    "collapsed": false
   },
   "outputs": [],
   "source": [
    "df = df[df.col1 != df.col2]\n",
    "df = df[df.col1 != df.col3]\n",
    "df = df[df.col3 != df.col2]\n",
    "\n",
    "df = df[df.loc1 != df.loc2]\n",
    "df = df[df.loc1 != df.loc3]\n",
    "df = df[df.loc3 != df.loc2]"
   ]
  },
  {
   "cell_type": "code",
   "execution_count": 325,
   "metadata": {
    "collapsed": false
   },
   "outputs": [],
   "source": [
    "df.reset_index(inplace=True,level = None)\n",
    "del df['index']"
   ]
  },
  {
   "cell_type": "code",
   "execution_count": 377,
   "metadata": {
    "collapsed": true
   },
   "outputs": [],
   "source": [
    "df.testcol = [\"red\"]*33 +[\"yellow\"]*33 + [\"blue\"]*33\n",
    "shuffle(df.testcol)"
   ]
  },
  {
   "cell_type": "code",
   "execution_count": 390,
   "metadata": {
    "collapsed": false
   },
   "outputs": [],
   "source": [
    "for index, row in df.iterrows():\n",
    "    \n",
    "    \n",
    "    if row['col1'] == row['testcol'] and row['loc1']==[0,4]:\n",
    "        row['corrans'] = 'down'\n",
    "    elif row['col1'] == row['testcol'] and row['loc1']==[0,-4]:\n",
    "        row['corrans'] = 'up'\n",
    "    elif row['col1'] == row['testcol'] and row['loc1']==[4,0]:\n",
    "        row['corrans'] = 'left'\n",
    "    elif row['col1'] == row['testcol'] and row['loc1']==[-4,0]:\n",
    "        row['corrans'] = 'right'\n",
    "   \n",
    "    if row['col2'] == row['testcol'] and row['loc2']==[0,4]:\n",
    "        row['corrans'] = 'down'\n",
    "    elif row['col2'] == row['testcol'] and row['loc2']==[0,-4]:\n",
    "        row['corrans'] = 'up'\n",
    "    elif row['col2'] == row['testcol'] and row['loc2']==[4,0]:\n",
    "        row['corrans'] = 'left'\n",
    "    elif row['col2'] == row['testcol'] and row['loc2']==[-4,0]:\n",
    "        row['corrans'] = 'right'\n",
    "        \n",
    "    if row['col3'] == row['testcol'] and row['loc3']==[0,4]:\n",
    "        row['corrans'] = 'down'\n",
    "    elif row['col3'] == row['testcol'] and row['loc3']==[0,-4]:\n",
    "        row['corrans'] = 'up'\n",
    "    elif row['col3'] == row['testcol'] and row['loc3']==[4,0]:\n",
    "        row['corrans'] = 'left'\n",
    "    elif row['col3'] == row['testcol'] and row['loc3']==[-4,0]:\n",
    "        row['corrans'] = 'right'\n",
    "    "
   ]
  },
  {
   "cell_type": "code",
   "execution_count": 405,
   "metadata": {
    "collapsed": false
   },
   "outputs": [],
   "source": [
    "df2.to_excel(\"colour_coordinates.xlsx\",index=False)"
   ]
  },
  {
   "cell_type": "code",
   "execution_count": 399,
   "metadata": {
    "collapsed": false
   },
   "outputs": [],
   "source": [
    "df2 = pd.read_csv('colour_coordinates.csv')\n",
    "df2 = df2.drop_duplicates()"
   ]
  },
  {
   "cell_type": "code",
   "execution_count": 401,
   "metadata": {
    "collapsed": false
   },
   "outputs": [
    {
     "name": "stdout",
     "output_type": "stream",
     "text": [
      "(99, 8)\n"
     ]
    },
    {
     "data": {
      "text/plain": [
       "(77, 8)"
      ]
     },
     "execution_count": 401,
     "metadata": {},
     "output_type": "execute_result"
    }
   ],
   "source": [
    "print(df.shape)\n",
    "df2.shape"
   ]
  },
  {
   "cell_type": "code",
   "execution_count": null,
   "metadata": {
    "collapsed": true
   },
   "outputs": [],
   "source": []
  }
 ],
 "metadata": {
  "kernelspec": {
   "display_name": "Python 3",
   "language": "python",
   "name": "python3"
  },
  "language_info": {
   "codemirror_mode": {
    "name": "ipython",
    "version": 3
   },
   "file_extension": ".py",
   "mimetype": "text/x-python",
   "name": "python",
   "nbconvert_exporter": "python",
   "pygments_lexer": "ipython3",
   "version": "3.4.3"
  }
 },
 "nbformat": 4,
 "nbformat_minor": 0
}
