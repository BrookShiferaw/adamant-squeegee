{
 "cells": [
  {
   "cell_type": "markdown",
   "metadata": {},
   "source": [
    "EDF Saccade Variables:\n",
    "\n",
    "- duration\n",
    "- peak velocity\n",
    "- peak velocity time\n",
    "- frequency \n",
    "- start time (RT of saccade initiation)\n"
   ]
  },
  {
   "cell_type": "code",
   "execution_count": 16,
   "metadata": {
    "collapsed": false
   },
   "outputs": [],
   "source": [
    "df = pd.read_csv('VWM_pilot/all_saccades.csv')\n",
    "df.columns = map(str.lower, df.columns)\n",
    "df.trial_start_time = df.trial_start_time.astype(int).fillna(0.0)"
   ]
  },
  {
   "cell_type": "code",
   "execution_count": 17,
   "metadata": {
    "collapsed": false
   },
   "outputs": [],
   "source": [
    "df1 = df[df.current_sac_amplitude  != '.']\n",
    "df1 = df[df.current_sac_avg_velocity  != '.']\n",
    "df1 = df1.loc[df1['current_sac_contains_blink'] == False]\n",
    "del df1['current_sac_contains_blink']"
   ]
  },
  {
   "cell_type": "code",
   "execution_count": 18,
   "metadata": {
    "collapsed": false
   },
   "outputs": [],
   "source": [
    "df1.insert(0,'id',df1.recording_session_label.str[-1:])\n",
    "df1.insert(0,'condition',df1.recording_session_label.str[:-3])\n",
    "df1.insert(2,'trial',df1.trial_index)\n",
    "df1.insert(3,'freq',df1.trial_saccade_total)\n",
    "df1.insert(4,'stage','')\n",
    "df1.insert(5,'trial_start','')\n",
    "df1 = df1[df1.recording_session_label  != '3']\n",
    "del df1['recording_session_label']\n",
    "del df1['trial_index']"
   ]
  },
  {
   "cell_type": "code",
   "execution_count": 19,
   "metadata": {
    "collapsed": false
   },
   "outputs": [],
   "source": [
    "df1.current_sac_amplitude = df1.current_sac_amplitude.astype(float).fillna(0.0)\n",
    "df1.current_sac_avg_velocity = df1.current_sac_amplitude.astype(float).fillna(0.0)"
   ]
  },
  {
   "cell_type": "code",
   "execution_count": 20,
   "metadata": {
    "collapsed": false
   },
   "outputs": [],
   "source": [
    "\n",
    "df1.insert(3,'latency','.05')\n",
    "df1.insert (4,'peak_time',df1.current_sac_peak_velocity_time - df1.trial_start_time)"
   ]
  },
  {
   "cell_type": "code",
   "execution_count": 21,
   "metadata": {
    "collapsed": false
   },
   "outputs": [
    {
     "data": {
      "text/plain": [
       "Index(['condition', 'id', 'trial', 'latency', 'peak_time', 'freq', 'stage',\n",
       "       'trial_start', 'current_sac_amplitude', 'current_sac_avg_velocity',\n",
       "       'current_sac_duration', 'current_sac_end_time', 'current_sac_index',\n",
       "       'current_sac_peak_velocity', 'current_sac_peak_velocity_time',\n",
       "       'current_sac_start_time', 'trial_saccade_total', 'trial_start_time',\n",
       "       'trial_label'],\n",
       "      dtype='object')"
      ]
     },
     "execution_count": 21,
     "metadata": {},
     "output_type": "execute_result"
    }
   ],
   "source": [
    "df1.columns"
   ]
  },
  {
   "cell_type": "code",
   "execution_count": 22,
   "metadata": {
    "collapsed": false
   },
   "outputs": [],
   "source": [
    "colnames = df1.columns\n",
    "colnames = [['condition', 'id', 'trial', 'latency', 'peak_time', 'freqency', 'stage','trial_start',\n",
    "       'amplitude', 'avg_velocity',\n",
    "       'duration', 'sac_end_time', 'sac_index',\n",
    "       'peak_velocity', 'sac_peak_velocity_time',\n",
    "       'sac_start_time', 'trial_saccade_total', 'trial_start_time',\n",
    "       'trial_label']]\n",
    "df1.columns = colnames"
   ]
  },
  {
   "cell_type": "code",
   "execution_count": null,
   "metadata": {
    "collapsed": true
   },
   "outputs": [],
   "source": []
  },
  {
   "cell_type": "code",
   "execution_count": 23,
   "metadata": {
    "collapsed": true
   },
   "outputs": [],
   "source": [
    "df1.sac_start_time = df1.sac_start_time.astype(int).fillna(0.0)"
   ]
  },
  {
   "cell_type": "code",
   "execution_count": null,
   "metadata": {
    "collapsed": true
   },
   "outputs": [],
   "source": []
  },
  {
   "cell_type": "code",
   "execution_count": 24,
   "metadata": {
    "collapsed": false
   },
   "outputs": [],
   "source": [
    "one = df1.loc[df1['id'] == '1' ]\n",
    "alc1 = one.loc[one['condition'] == 'alcohol' ]\n",
    "base1 = one.loc[one['condition'] == 'baseline' ]\n",
    "\n",
    "two = df1.loc[df1['id'] == '2' ]\n",
    "alc2 = two.loc[two['condition'] == 'alcohol' ]\n",
    "base2 = two.loc[two['condition'] == 'baseline' ]\n",
    "\n",
    "four = df1.loc[df1['id'] == '4' ]\n",
    "alc4 = four.loc[four['condition'] == 'alcohol' ]\n",
    "base4 = four.loc[four['condition'] == 'baseline' ]"
   ]
  },
  {
   "cell_type": "code",
   "execution_count": 25,
   "metadata": {
    "collapsed": false
   },
   "outputs": [
    {
     "name": "stderr",
     "output_type": "stream",
     "text": [
      "/Users/Brook/anaconda/envs/myenv3/lib/python3.4/site-packages/IPython/kernel/__main__.py:1: SettingWithCopyWarning: \n",
      "A value is trying to be set on a copy of a slice from a DataFrame.\n",
      "Try using .loc[row_indexer,col_indexer] = value instead\n",
      "\n",
      "See the the caveats in the documentation: http://pandas.pydata.org/pandas-docs/stable/indexing.html#indexing-view-versus-copy\n",
      "  if __name__ == '__main__':\n",
      "/Users/Brook/anaconda/envs/myenv3/lib/python3.4/site-packages/IPython/kernel/__main__.py:2: SettingWithCopyWarning: \n",
      "A value is trying to be set on a copy of a slice from a DataFrame.\n",
      "Try using .loc[row_indexer,col_indexer] = value instead\n",
      "\n",
      "See the the caveats in the documentation: http://pandas.pydata.org/pandas-docs/stable/indexing.html#indexing-view-versus-copy\n",
      "  from IPython.kernel.zmq import kernelapp as app\n",
      "/Users/Brook/anaconda/envs/myenv3/lib/python3.4/site-packages/IPython/kernel/__main__.py:3: SettingWithCopyWarning: \n",
      "A value is trying to be set on a copy of a slice from a DataFrame.\n",
      "Try using .loc[row_indexer,col_indexer] = value instead\n",
      "\n",
      "See the the caveats in the documentation: http://pandas.pydata.org/pandas-docs/stable/indexing.html#indexing-view-versus-copy\n",
      "  app.launch_new_instance()\n",
      "/Users/Brook/anaconda/envs/myenv3/lib/python3.4/site-packages/IPython/kernel/__main__.py:4: SettingWithCopyWarning: \n",
      "A value is trying to be set on a copy of a slice from a DataFrame.\n",
      "Try using .loc[row_indexer,col_indexer] = value instead\n",
      "\n",
      "See the the caveats in the documentation: http://pandas.pydata.org/pandas-docs/stable/indexing.html#indexing-view-versus-copy\n",
      "/Users/Brook/anaconda/envs/myenv3/lib/python3.4/site-packages/IPython/kernel/__main__.py:5: SettingWithCopyWarning: \n",
      "A value is trying to be set on a copy of a slice from a DataFrame.\n",
      "Try using .loc[row_indexer,col_indexer] = value instead\n",
      "\n",
      "See the the caveats in the documentation: http://pandas.pydata.org/pandas-docs/stable/indexing.html#indexing-view-versus-copy\n",
      "/Users/Brook/anaconda/envs/myenv3/lib/python3.4/site-packages/IPython/kernel/__main__.py:6: SettingWithCopyWarning: \n",
      "A value is trying to be set on a copy of a slice from a DataFrame.\n",
      "Try using .loc[row_indexer,col_indexer] = value instead\n",
      "\n",
      "See the the caveats in the documentation: http://pandas.pydata.org/pandas-docs/stable/indexing.html#indexing-view-versus-copy\n"
     ]
    }
   ],
   "source": [
    "alc1['trial_start'] = alc1.trial_start_time - 120119\n",
    "base1['trial_start'] = base1.trial_start_time - 246988\n",
    "alc2['trial_start'] = alc2.trial_start_time - 86955\n",
    "base2['trial_start'] = base2.trial_start_time - 208937\n",
    "alc4['trial_start'] = alc4.trial_start_time - 4289462 \n",
    "base4['trial_start'] = base4.trial_start_time - 717280 "
   ]
  },
  {
   "cell_type": "code",
   "execution_count": 26,
   "metadata": {
    "collapsed": true
   },
   "outputs": [],
   "source": [
    "frames = [alc1,alc2,alc4,base1,base2,base4]\n",
    "frames = pd.concat(frames)"
   ]
  },
  {
   "cell_type": "code",
   "execution_count": 28,
   "metadata": {
    "collapsed": false
   },
   "outputs": [
    {
     "data": {
      "text/plain": [
       "27.36"
      ]
     },
     "execution_count": 28,
     "metadata": {},
     "output_type": "execute_result"
    }
   ],
   "source": [
    "frames.amplitude.max()"
   ]
  },
  {
   "cell_type": "code",
   "execution_count": 12,
   "metadata": {
    "collapsed": false
   },
   "outputs": [],
   "source": [
    "#frames = frames[frames.trial  != 1]"
   ]
  },
  {
   "cell_type": "code",
   "execution_count": 13,
   "metadata": {
    "collapsed": false
   },
   "outputs": [],
   "source": [
    "#if frames['trial'].any() >1:\n",
    "frames.latency = frames.trial_start - frames.sac_start_time\n",
    "#else:\n",
    "    #frames.latency = frames.sac_start_time"
   ]
  },
  {
   "cell_type": "code",
   "execution_count": 14,
   "metadata": {
    "collapsed": false
   },
   "outputs": [],
   "source": [
    "for index, row in frames.iterrows():\n",
    "    if row['sac_start_time'] <= 1500:\n",
    "        row['stage'] = 'encoding'\n",
    "    elif row['sac_start_time'] >= 1500 < 2500:\n",
    "        row['stage'] = 'retention'\n",
    "    elif row['sac_start_time'] > 2500:\n",
    "        row['stage'] = 'recall'\n"
   ]
  },
  {
   "cell_type": "code",
   "execution_count": 433,
   "metadata": {
    "collapsed": false
   },
   "outputs": [],
   "source": [
    "df2 = frames.groupby(['condition', 'id', 'trial','latency'])\n",
    "df2 = df2.mean()\n",
    "df2 = df2.reset_index()"
   ]
  },
  {
   "cell_type": "code",
   "execution_count": 434,
   "metadata": {
    "collapsed": true
   },
   "outputs": [],
   "source": [
    "df3 = frames.groupby(['condition', 'trial'])\n",
    "df3 = df3.mean()\n",
    "df3 = df3.reset_index()"
   ]
  },
  {
   "cell_type": "code",
   "execution_count": 435,
   "metadata": {
    "collapsed": false
   },
   "outputs": [],
   "source": [
    "baseline = df2.loc[df2['condition'] == 'baseline']\n",
    "baseline = baseline.reset_index(drop=True)\n",
    "alcohol = df2.loc[df2['condition'] == 'alcohol']\n",
    "alcohol = alcohol.reset_index(drop=True)\n",
    "\n",
    "baseline2 = df3.loc[df3['condition'] == 'baseline']\n",
    "baseline2 = baseline2.reset_index(drop=True)\n",
    "alcohol2 = df3.loc[df3['condition'] == 'alcohol']\n",
    "alcohol2 = alcohol2.reset_index(drop=True)"
   ]
  },
  {
   "cell_type": "code",
   "execution_count": null,
   "metadata": {
    "collapsed": true
   },
   "outputs": [],
   "source": []
  }
 ],
 "metadata": {
  "kernelspec": {
   "display_name": "Python 3",
   "language": "python",
   "name": "python3"
  },
  "language_info": {
   "codemirror_mode": {
    "name": "ipython",
    "version": 3
   },
   "file_extension": ".py",
   "mimetype": "text/x-python",
   "name": "python",
   "nbconvert_exporter": "python",
   "pygments_lexer": "ipython3",
   "version": "3.4.3"
  }
 },
 "nbformat": 4,
 "nbformat_minor": 0
}
